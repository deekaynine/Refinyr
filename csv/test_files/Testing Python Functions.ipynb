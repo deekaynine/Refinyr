{
 "cells": [
  {
   "cell_type": "code",
   "execution_count": 79,
   "id": "0c311003",
   "metadata": {},
   "outputs": [],
   "source": [
    "import pandas as pd"
   ]
  },
  {
   "cell_type": "code",
   "execution_count": 80,
   "id": "0610df0d",
   "metadata": {},
   "outputs": [],
   "source": [
    "df = pd.read_csv(\"MOCK_DATA.csv\")"
   ]
  },
  {
   "cell_type": "code",
   "execution_count": 81,
   "id": "85536f2d",
   "metadata": {},
   "outputs": [
    {
     "data": {
      "text/html": [
       "<div>\n",
       "<style scoped>\n",
       "    .dataframe tbody tr th:only-of-type {\n",
       "        vertical-align: middle;\n",
       "    }\n",
       "\n",
       "    .dataframe tbody tr th {\n",
       "        vertical-align: top;\n",
       "    }\n",
       "\n",
       "    .dataframe thead th {\n",
       "        text-align: right;\n",
       "    }\n",
       "</style>\n",
       "<table border=\"1\" class=\"dataframe\">\n",
       "  <thead>\n",
       "    <tr style=\"text-align: right;\">\n",
       "      <th></th>\n",
       "      <th>id</th>\n",
       "      <th>first_name</th>\n",
       "      <th>last_name</th>\n",
       "      <th>email</th>\n",
       "      <th>gender</th>\n",
       "      <th>ip_address</th>\n",
       "    </tr>\n",
       "  </thead>\n",
       "  <tbody>\n",
       "    <tr>\n",
       "      <th>0</th>\n",
       "      <td>1</td>\n",
       "      <td>Salomo</td>\n",
       "      <td>Skill</td>\n",
       "      <td>sskill0@businessinsider.com</td>\n",
       "      <td>Male</td>\n",
       "      <td>85.107.11.136</td>\n",
       "    </tr>\n",
       "    <tr>\n",
       "      <th>1</th>\n",
       "      <td>2</td>\n",
       "      <td>Dido</td>\n",
       "      <td>Breche</td>\n",
       "      <td>dbreche1@privacy.gov.au</td>\n",
       "      <td>Female</td>\n",
       "      <td>127.100.218.211</td>\n",
       "    </tr>\n",
       "    <tr>\n",
       "      <th>2</th>\n",
       "      <td>3</td>\n",
       "      <td>Christoforo</td>\n",
       "      <td>McClements</td>\n",
       "      <td>cmcclements2@economist.com</td>\n",
       "      <td>Male</td>\n",
       "      <td>66.84.129.212</td>\n",
       "    </tr>\n",
       "    <tr>\n",
       "      <th>3</th>\n",
       "      <td>4</td>\n",
       "      <td>Rufe</td>\n",
       "      <td>Dyball</td>\n",
       "      <td>rdyball3@chron.com</td>\n",
       "      <td>Male</td>\n",
       "      <td>233.172.18.148</td>\n",
       "    </tr>\n",
       "    <tr>\n",
       "      <th>4</th>\n",
       "      <td>5</td>\n",
       "      <td>Jackson</td>\n",
       "      <td>Noseworthy</td>\n",
       "      <td>jnoseworthy4@networkadvertising.org</td>\n",
       "      <td>Male</td>\n",
       "      <td>178.234.135.183</td>\n",
       "    </tr>\n",
       "  </tbody>\n",
       "</table>\n",
       "</div>"
      ],
      "text/plain": [
       "   id   first_name   last_name                                email  gender  \\\n",
       "0   1       Salomo       Skill          sskill0@businessinsider.com    Male   \n",
       "1   2         Dido      Breche              dbreche1@privacy.gov.au  Female   \n",
       "2   3  Christoforo  McClements           cmcclements2@economist.com    Male   \n",
       "3   4         Rufe      Dyball                   rdyball3@chron.com    Male   \n",
       "4   5      Jackson  Noseworthy  jnoseworthy4@networkadvertising.org    Male   \n",
       "\n",
       "        ip_address  \n",
       "0    85.107.11.136  \n",
       "1  127.100.218.211  \n",
       "2    66.84.129.212  \n",
       "3   233.172.18.148  \n",
       "4  178.234.135.183  "
      ]
     },
     "execution_count": 81,
     "metadata": {},
     "output_type": "execute_result"
    }
   ],
   "source": [
    "df.head()"
   ]
  },
  {
   "cell_type": "code",
   "execution_count": 82,
   "id": "6135cfbe",
   "metadata": {},
   "outputs": [
    {
     "name": "stdout",
     "output_type": "stream",
     "text": [
      "True\n"
     ]
    }
   ],
   "source": [
    "A = 'Male' in df[\"gender\"].unique()\n",
    "print(A)"
   ]
  },
  {
   "cell_type": "code",
   "execution_count": 83,
   "id": "49f04922",
   "metadata": {},
   "outputs": [],
   "source": [
    "def value_editor(df, col_name, old_value, new_value):\n",
    "    if old_value in df[col_name].unique():\n",
    "        NewColumn = df[col_name].replace({old_value : new_value})\n",
    "        Newdf = df\n",
    "        Newdf[col_name] = NewColumn\n",
    "        return Newdf\n",
    "    else: \n",
    "        return (\"Error could not find value\")\n",
    "        "
   ]
  },
  {
   "cell_type": "code",
   "execution_count": 84,
   "id": "bf845a33",
   "metadata": {},
   "outputs": [],
   "source": [
    "B = value_editor(df, 'gender', 'Male', \"X\")"
   ]
  },
  {
   "cell_type": "code",
   "execution_count": 85,
   "id": "eda585c0",
   "metadata": {},
   "outputs": [
    {
     "data": {
      "text/html": [
       "<div>\n",
       "<style scoped>\n",
       "    .dataframe tbody tr th:only-of-type {\n",
       "        vertical-align: middle;\n",
       "    }\n",
       "\n",
       "    .dataframe tbody tr th {\n",
       "        vertical-align: top;\n",
       "    }\n",
       "\n",
       "    .dataframe thead th {\n",
       "        text-align: right;\n",
       "    }\n",
       "</style>\n",
       "<table border=\"1\" class=\"dataframe\">\n",
       "  <thead>\n",
       "    <tr style=\"text-align: right;\">\n",
       "      <th></th>\n",
       "      <th>id</th>\n",
       "      <th>first_name</th>\n",
       "      <th>last_name</th>\n",
       "      <th>email</th>\n",
       "      <th>gender</th>\n",
       "      <th>ip_address</th>\n",
       "    </tr>\n",
       "  </thead>\n",
       "  <tbody>\n",
       "    <tr>\n",
       "      <th>0</th>\n",
       "      <td>1</td>\n",
       "      <td>Salomo</td>\n",
       "      <td>Skill</td>\n",
       "      <td>sskill0@businessinsider.com</td>\n",
       "      <td>X</td>\n",
       "      <td>85.107.11.136</td>\n",
       "    </tr>\n",
       "    <tr>\n",
       "      <th>1</th>\n",
       "      <td>2</td>\n",
       "      <td>Dido</td>\n",
       "      <td>Breche</td>\n",
       "      <td>dbreche1@privacy.gov.au</td>\n",
       "      <td>Female</td>\n",
       "      <td>127.100.218.211</td>\n",
       "    </tr>\n",
       "    <tr>\n",
       "      <th>2</th>\n",
       "      <td>3</td>\n",
       "      <td>Christoforo</td>\n",
       "      <td>McClements</td>\n",
       "      <td>cmcclements2@economist.com</td>\n",
       "      <td>X</td>\n",
       "      <td>66.84.129.212</td>\n",
       "    </tr>\n",
       "    <tr>\n",
       "      <th>3</th>\n",
       "      <td>4</td>\n",
       "      <td>Rufe</td>\n",
       "      <td>Dyball</td>\n",
       "      <td>rdyball3@chron.com</td>\n",
       "      <td>X</td>\n",
       "      <td>233.172.18.148</td>\n",
       "    </tr>\n",
       "    <tr>\n",
       "      <th>4</th>\n",
       "      <td>5</td>\n",
       "      <td>Jackson</td>\n",
       "      <td>Noseworthy</td>\n",
       "      <td>jnoseworthy4@networkadvertising.org</td>\n",
       "      <td>X</td>\n",
       "      <td>178.234.135.183</td>\n",
       "    </tr>\n",
       "  </tbody>\n",
       "</table>\n",
       "</div>"
      ],
      "text/plain": [
       "   id   first_name   last_name                                email  gender  \\\n",
       "0   1       Salomo       Skill          sskill0@businessinsider.com       X   \n",
       "1   2         Dido      Breche              dbreche1@privacy.gov.au  Female   \n",
       "2   3  Christoforo  McClements           cmcclements2@economist.com       X   \n",
       "3   4         Rufe      Dyball                   rdyball3@chron.com       X   \n",
       "4   5      Jackson  Noseworthy  jnoseworthy4@networkadvertising.org       X   \n",
       "\n",
       "        ip_address  \n",
       "0    85.107.11.136  \n",
       "1  127.100.218.211  \n",
       "2    66.84.129.212  \n",
       "3   233.172.18.148  \n",
       "4  178.234.135.183  "
      ]
     },
     "execution_count": 85,
     "metadata": {},
     "output_type": "execute_result"
    }
   ],
   "source": [
    "B.head()"
   ]
  },
  {
   "cell_type": "code",
   "execution_count": 27,
   "id": "83214a27",
   "metadata": {},
   "outputs": [],
   "source": [
    "C = df['gender'].replace({'Male':'X'})"
   ]
  },
  {
   "cell_type": "code",
   "execution_count": 28,
   "id": "4fe58dfe",
   "metadata": {},
   "outputs": [
    {
     "data": {
      "text/plain": [
       "0         X\n",
       "1    Female\n",
       "2         X\n",
       "3         X\n",
       "4         X\n",
       "Name: gender, dtype: object"
      ]
     },
     "execution_count": 28,
     "metadata": {},
     "output_type": "execute_result"
    }
   ],
   "source": [
    "C.head()"
   ]
  },
  {
   "cell_type": "code",
   "execution_count": null,
   "id": "98623894",
   "metadata": {},
   "outputs": [],
   "source": []
  },
  {
   "cell_type": "code",
   "execution_count": null,
   "id": "80422398",
   "metadata": {},
   "outputs": [],
   "source": []
  },
  {
   "cell_type": "code",
   "execution_count": null,
   "id": "e49502d3",
   "metadata": {},
   "outputs": [],
   "source": []
  },
  {
   "cell_type": "code",
   "execution_count": null,
   "id": "042f7c1b",
   "metadata": {},
   "outputs": [],
   "source": []
  },
  {
   "cell_type": "code",
   "execution_count": null,
   "id": "e859d01a",
   "metadata": {},
   "outputs": [],
   "source": []
  },
  {
   "cell_type": "code",
   "execution_count": null,
   "id": "f6a08ef1",
   "metadata": {},
   "outputs": [],
   "source": []
  },
  {
   "cell_type": "code",
   "execution_count": null,
   "id": "610c65c5",
   "metadata": {},
   "outputs": [],
   "source": []
  }
 ],
 "metadata": {
  "kernelspec": {
   "display_name": "Python 3 (ipykernel)",
   "language": "python",
   "name": "python3"
  },
  "language_info": {
   "codemirror_mode": {
    "name": "ipython",
    "version": 3
   },
   "file_extension": ".py",
   "mimetype": "text/x-python",
   "name": "python",
   "nbconvert_exporter": "python",
   "pygments_lexer": "ipython3",
   "version": "3.9.12"
  }
 },
 "nbformat": 4,
 "nbformat_minor": 5
}
