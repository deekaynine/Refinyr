{
 "cells": [
  {
   "cell_type": "code",
   "execution_count": 72,
   "id": "5b8f1ac2",
   "metadata": {},
   "outputs": [],
   "source": [
    "import pandas as pd"
   ]
  },
  {
   "cell_type": "code",
   "execution_count": 73,
   "id": "608142d5",
   "metadata": {},
   "outputs": [
    {
     "data": {
      "text/html": [
       "<div>\n",
       "<style scoped>\n",
       "    .dataframe tbody tr th:only-of-type {\n",
       "        vertical-align: middle;\n",
       "    }\n",
       "\n",
       "    .dataframe tbody tr th {\n",
       "        vertical-align: top;\n",
       "    }\n",
       "\n",
       "    .dataframe thead th {\n",
       "        text-align: right;\n",
       "    }\n",
       "</style>\n",
       "<table border=\"1\" class=\"dataframe\">\n",
       "  <thead>\n",
       "    <tr style=\"text-align: right;\">\n",
       "      <th></th>\n",
       "      <th>ColumnA</th>\n",
       "      <th>ColumnB</th>\n",
       "      <th>ColumnC</th>\n",
       "    </tr>\n",
       "  </thead>\n",
       "  <tbody>\n",
       "    <tr>\n",
       "      <th>0</th>\n",
       "      <td>2.0</td>\n",
       "      <td>2.5</td>\n",
       "      <td>4.0</td>\n",
       "    </tr>\n",
       "    <tr>\n",
       "      <th>1</th>\n",
       "      <td>NaN</td>\n",
       "      <td>3.1</td>\n",
       "      <td>2.0</td>\n",
       "    </tr>\n",
       "    <tr>\n",
       "      <th>2</th>\n",
       "      <td>4.0</td>\n",
       "      <td>4.2</td>\n",
       "      <td>2.0</td>\n",
       "    </tr>\n",
       "    <tr>\n",
       "      <th>3</th>\n",
       "      <td>3.0</td>\n",
       "      <td>4.3</td>\n",
       "      <td>NaN</td>\n",
       "    </tr>\n",
       "    <tr>\n",
       "      <th>4</th>\n",
       "      <td>6.0</td>\n",
       "      <td>NaN</td>\n",
       "      <td>2.0</td>\n",
       "    </tr>\n",
       "  </tbody>\n",
       "</table>\n",
       "</div>"
      ],
      "text/plain": [
       "   ColumnA  ColumnB  ColumnC\n",
       "0      2.0      2.5      4.0\n",
       "1      NaN      3.1      2.0\n",
       "2      4.0      4.2      2.0\n",
       "3      3.0      4.3      NaN\n",
       "4      6.0      NaN      2.0"
      ]
     },
     "execution_count": 73,
     "metadata": {},
     "output_type": "execute_result"
    }
   ],
   "source": [
    "df = pd.read_csv(\"Test.csv\")\n",
    "df.head()"
   ]
  },
  {
   "cell_type": "code",
   "execution_count": 74,
   "id": "91bc210c",
   "metadata": {},
   "outputs": [
    {
     "data": {
      "text/plain": [
       "3.75"
      ]
     },
     "execution_count": 74,
     "metadata": {},
     "output_type": "execute_result"
    }
   ],
   "source": [
    "df['ColumnA'].mean()"
   ]
  },
  {
   "cell_type": "code",
   "execution_count": 75,
   "id": "9aee555a",
   "metadata": {},
   "outputs": [],
   "source": [
    "#Define mean of column\n",
    "#Create the column where nulls are replaced with mean\n",
    "#Replace original dataframe with the updated column.\n",
    "\n",
    "def ReplaceWMean(df,colName):\n",
    "    Mean = df[colName].mean()\n",
    "    Col = df[colName].fillna(value=Mean)\n",
    "    df[colName] = Col\n",
    "    return(df)"
   ]
  },
  {
   "cell_type": "code",
   "execution_count": 76,
   "id": "fec4f8c0",
   "metadata": {
    "scrolled": true
   },
   "outputs": [
    {
     "name": "stdout",
     "output_type": "stream",
     "text": [
      "   ColumnA  ColumnB  ColumnC\n",
      "0     2.00      2.5      4.0\n",
      "1     3.75      3.1      2.0\n",
      "2     4.00      4.2      2.0\n",
      "3     3.00      4.3      NaN\n",
      "4     6.00      NaN      2.0\n"
     ]
    }
   ],
   "source": [
    "print(ReplaceWMean(df,'ColumnA'))"
   ]
  },
  {
   "cell_type": "code",
   "execution_count": 87,
   "id": "0a56ee43",
   "metadata": {},
   "outputs": [],
   "source": [
    "#Define mode of column\n",
    "#Create the column where nulls are replaced with mode\n",
    "#Replace original dataframe with the updated column.\n",
    "#might need some logic here to ensure that we are getting an integer column as the input or we can convert the column to integer.\n",
    "\n",
    "def ReplaceWMode(df,colName):\n",
    "    Mode = df[colName].mode()\n",
    "    Col = df[colName].fillna(value=int(Mode))\n",
    "    df[colName] = Col\n",
    "    return(df)"
   ]
  },
  {
   "cell_type": "code",
   "execution_count": 88,
   "id": "2ee5fd49",
   "metadata": {},
   "outputs": [
    {
     "name": "stdout",
     "output_type": "stream",
     "text": [
      "   ColumnA  ColumnB  ColumnC\n",
      "0     2.00     2.50      4.0\n",
      "1     3.75     3.10      2.0\n",
      "2     4.00     4.20      2.0\n",
      "3     3.00     4.30      2.0\n",
      "4     6.00     3.65      2.0\n"
     ]
    }
   ],
   "source": [
    "print(ReplaceWMode(df,'ColumnC'))"
   ]
  },
  {
   "cell_type": "code",
   "execution_count": 79,
   "id": "54e3b993",
   "metadata": {},
   "outputs": [],
   "source": [
    "#Define median of column\n",
    "#Create the column where nulls are replaced with median\n",
    "#Replace original dataframe with the updated column.\n",
    "#might need some logic here to ensure that we are getting an integer \n",
    "\n",
    "def ReplaceWMedian(df,colName):\n",
    "    df[colName] = pd.to_numeric(df[colName])\n",
    "    Median = df[colName].median()\n",
    "    Col = df[colName].fillna(value=Median)\n",
    "    df[colName] = Col\n",
    "    return(df)\n"
   ]
  },
  {
   "cell_type": "code",
   "execution_count": 80,
   "id": "537b6d75",
   "metadata": {},
   "outputs": [
    {
     "name": "stdout",
     "output_type": "stream",
     "text": [
      "   ColumnA  ColumnB  ColumnC\n",
      "0     2.00     2.50      4.0\n",
      "1     3.75     3.10      2.0\n",
      "2     4.00     4.20      2.0\n",
      "3     3.00     4.30      NaN\n",
      "4     6.00     3.65      2.0\n"
     ]
    }
   ],
   "source": [
    "print(ReplaceWMedian(df,'ColumnB'))"
   ]
  },
  {
   "cell_type": "code",
   "execution_count": null,
   "id": "fc1872c2",
   "metadata": {},
   "outputs": [],
   "source": []
  }
 ],
 "metadata": {
  "kernelspec": {
   "display_name": "Python 3",
   "language": "python",
   "name": "python3"
  },
  "language_info": {
   "codemirror_mode": {
    "name": "ipython",
    "version": 3
   },
   "file_extension": ".py",
   "mimetype": "text/x-python",
   "name": "python",
   "nbconvert_exporter": "python",
   "pygments_lexer": "ipython3",
   "version": "3.8.8"
  }
 },
 "nbformat": 4,
 "nbformat_minor": 5
}
